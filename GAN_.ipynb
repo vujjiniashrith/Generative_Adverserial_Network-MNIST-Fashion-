{
  "cells": [
    {
      "cell_type": "markdown",
      "metadata": {
        "id": "view-in-github",
        "colab_type": "text"
      },
      "source": [
        "<a href=\"https://colab.research.google.com/github/vujjiniashrith/Generative_Adverserial_Network-MNIST-Fashion-/blob/main/GAN_.ipynb\" target=\"_parent\"><img src=\"https://colab.research.google.com/assets/colab-badge.svg\" alt=\"Open In Colab\"/></a>"
      ]
    },
    {
      "cell_type": "markdown",
      "id": "feb2e068",
      "metadata": {
        "id": "feb2e068"
      },
      "source": [
        "# Import all the dependencies"
      ]
    },
    {
      "cell_type": "code",
      "execution_count": null,
      "id": "137e2be5",
      "metadata": {
        "id": "137e2be5"
      },
      "outputs": [],
      "source": [
        "import tensorflow as tf\n",
        "from matplotlib import pyplot as plt"
      ]
    },
    {
      "cell_type": "code",
      "execution_count": null,
      "id": "34e4a623",
      "metadata": {
        "id": "34e4a623"
      },
      "outputs": [],
      "source": [
        "import tensorflow_datasets as tfds"
      ]
    },
    {
      "cell_type": "code",
      "execution_count": null,
      "id": "fb859b2e",
      "metadata": {
        "id": "fb859b2e"
      },
      "outputs": [],
      "source": [
        "ds = tfds.load('fashion_mnist',split = 'train')"
      ]
    },
    {
      "cell_type": "code",
      "execution_count": null,
      "id": "bb7079b7",
      "metadata": {
        "id": "bb7079b7",
        "outputId": "a40a5cf4-2524-4851-e568-c74cf3416b7c"
      },
      "outputs": [
        {
          "data": {
            "text/plain": [
              "tensorflow.python.data.ops.dataset_ops.PrefetchDataset"
            ]
          },
          "execution_count": 4,
          "metadata": {},
          "output_type": "execute_result"
        }
      ],
      "source": [
        "type(ds)"
      ]
    },
    {
      "cell_type": "code",
      "execution_count": null,
      "id": "4008ce68",
      "metadata": {
        "id": "4008ce68",
        "outputId": "d6833475-782e-46f3-a77c-3ecb8257ee1f"
      },
      "outputs": [
        {
          "data": {
            "text/plain": [
              "2"
            ]
          },
          "execution_count": 5,
          "metadata": {},
          "output_type": "execute_result"
        }
      ],
      "source": [
        "ds.as_numpy_iterator().next()['label']"
      ]
    },
    {
      "cell_type": "markdown",
      "id": "a51a52e7",
      "metadata": {
        "id": "a51a52e7"
      },
      "source": [
        "# Visulaizing the data"
      ]
    },
    {
      "cell_type": "code",
      "execution_count": null,
      "id": "df95db53",
      "metadata": {
        "id": "df95db53"
      },
      "outputs": [],
      "source": [
        "import numpy as np\n",
        "# to do some data transformation"
      ]
    },
    {
      "cell_type": "code",
      "execution_count": null,
      "id": "610facd5",
      "metadata": {
        "id": "610facd5"
      },
      "outputs": [],
      "source": [
        "dataiterator = ds.as_numpy_iterator()"
      ]
    },
    {
      "cell_type": "code",
      "execution_count": null,
      "id": "3c49b0f3",
      "metadata": {
        "scrolled": true,
        "id": "3c49b0f3",
        "outputId": "2a7b2e53-009d-4252-8da5-4972586b885d"
      },
      "outputs": [
        {
          "data": {
            "text/plain": [
              "(28, 28, 1)"
            ]
          },
          "execution_count": 8,
          "metadata": {},
          "output_type": "execute_result"
        }
      ],
      "source": [
        "#getting data out of a pipeline\n",
        "dataiterator.next()['image'].shape"
      ]
    },
    {
      "cell_type": "code",
      "execution_count": null,
      "id": "1a3c6ca5",
      "metadata": {
        "id": "1a3c6ca5",
        "outputId": "68b3a647-dd3d-4db6-f4cf-026f50032f63"
      },
      "outputs": [
        {
          "data": {
            "image/png": "[encoded data removed]",
            "text/plain": [
              "<Figure size 2000x2000 with 4 Axes>"
            ]
          },
          "metadata": {},
          "output_type": "display_data"
        }
      ],
      "source": [
        "fig, ax = plt.subplots(ncols = 4, figsize = (20,20))\n",
        "for idx in range(4):\n",
        "    #grab an image from the pipeline\n",
        "    batch = dataiterator.next()\n",
        "    ax[idx].imshow(np.squeeze(batch['image']))\n",
        "    ax[idx].title.set_text(batch['label'])"
      ]
    },
    {
      "cell_type": "code",
      "execution_count": null,
      "id": "deab894d",
      "metadata": {
        "id": "deab894d",
        "outputId": "bb181994-5f1d-46e0-a675-6fac7d567893"
      },
      "outputs": [
        {
          "data": {
            "text/plain": [
              "array([<AxesSubplot:title={'center':'1'}>,\n",
              "       <AxesSubplot:title={'center':'8'}>,\n",
              "       <AxesSubplot:title={'center':'4'}>,\n",
              "       <AxesSubplot:title={'center':'1'}>], dtype=object)"
            ]
          },
          "execution_count": 10,
          "metadata": {},
          "output_type": "execute_result"
        }
      ],
      "source": [
        "ax"
      ]
    },
    {
      "cell_type": "code",
      "execution_count": null,
      "id": "b23e886f",
      "metadata": {
        "id": "b23e886f"
      },
      "outputs": [],
      "source": [
        "def scale_images(data):\n",
        "    image = data['image']\n",
        "    return image/255"
      ]
    },
    {
      "cell_type": "code",
      "execution_count": null,
      "id": "48d7f2a8",
      "metadata": {
        "id": "48d7f2a8"
      },
      "outputs": [],
      "source": [
        "ds = tfds.load('fashion_mnist',split='train')\n",
        "ds = ds.map(scale_images)#running the dataset through the scale_images preprocessing step\n",
        "ds = ds.cache()#cache the dataset for that batch\n",
        "ds = ds.shuffle(60000)#shuffling the dataset\n",
        "ds = ds.batch(128)#we are batching into 128 images per sample\n",
        "ds = ds.prefetch(64)# reduces the bottlenecking"
      ]
    },
    {
      "cell_type": "code",
      "execution_count": null,
      "id": "4c832fbc",
      "metadata": {
        "id": "4c832fbc",
        "outputId": "880b091c-d428-436a-ba17-240599ff529a"
      },
      "outputs": [
        {
          "data": {
            "text/plain": [
              "(128, 28, 28, 1)"
            ]
          },
          "execution_count": 13,
          "metadata": {},
          "output_type": "execute_result"
        }
      ],
      "source": [
        "ds.as_numpy_iterator().next().shape"
      ]
    },
    {
      "cell_type": "markdown",
      "id": "ba853cd1",
      "metadata": {
        "id": "ba853cd1"
      },
      "source": [
        "# Build Neural Network"
      ]
    },
    {
      "cell_type": "code",
      "execution_count": null,
      "id": "60aa7eb8",
      "metadata": {
        "id": "60aa7eb8"
      },
      "outputs": [],
      "source": [
        "# import modelling components\n",
        "from tensorflow.keras.models import Sequential\n",
        "from tensorflow.keras.layers import Conv2D, Dense, Flatten, Reshape, LeakyReLU, Dropout\n",
        "#used for generator to upsample the images to add little bit more depth\n",
        "from tensorflow.keras.layers import UpSampling2D"
      ]
    },
    {
      "cell_type": "markdown",
      "id": "1fc61833",
      "metadata": {
        "id": "1fc61833"
      },
      "source": [
        "***Build Generator***"
      ]
    },
    {
      "cell_type": "code",
      "execution_count": null,
      "id": "1a65676a",
      "metadata": {
        "id": "1a65676a"
      },
      "outputs": [],
      "source": [
        "def build_generator():\n",
        "    model = Sequential()\n",
        "\n",
        "    # we are giving 128 random inputs list to generate an image normally called as LatentSpace\n",
        "    #takes in random values and reshapes it to 7x7x128\n",
        "    model.add(Dense(7*7*128, input_dim = 128))\n",
        "    model.add(LeakyReLU(0.2))\n",
        "    model.add(Reshape((7,7,128)))#outputiing the data\n",
        "\n",
        "    #Upsampling block 1\n",
        "    model.add(UpSampling2D())#effectively doubles the each row and column\n",
        "    model.add(Conv2D(128,5,padding = 'same'))# total 128 filters with shape 5x5\n",
        "    model.add(LeakyReLU(0.2))\n",
        "\n",
        "    #Upsampling block 2\n",
        "    model.add(UpSampling2D())\n",
        "    model.add(Conv2D(128,5,padding='same'))\n",
        "    model.add(LeakyReLU(0.2))\n",
        "\n",
        "    #Convlutional bloc 1\n",
        "    model.add(Conv2D(128,4,padding='same'))\n",
        "    model.add(LeakyReLU(0.2))\n",
        "\n",
        "    #Convloutional bloc 2\n",
        "    model.add(Conv2D(128,4,padding='same'))\n",
        "    model.add(LeakyReLU(0.2))\n",
        "\n",
        "    #Conv Layer to get to one channel\n",
        "    model.add(Conv2D(1,4,padding = 'same', activation = 'sigmoid'))\n",
        "\n",
        "\n",
        "\n",
        "    return model"
      ]
    },
    {
      "cell_type": "code",
      "execution_count": null,
      "id": "47b29127",
      "metadata": {
        "id": "47b29127"
      },
      "outputs": [],
      "source": [
        "generator = build_generator()"
      ]
    },
    {
      "cell_type": "code",
      "execution_count": null,
      "id": "1a05ec33",
      "metadata": {
        "id": "1a05ec33",
        "outputId": "499c8853-f3fe-4018-e5b7-ce9b3709eca3"
      },
      "outputs": [
        {
          "name": "stdout",
          "output_type": "stream",
          "text": [
            "Model: \"sequential_5\"\n",
            "_________________________________________________________________\n",
            " Layer (type)                Output Shape              Param #   \n",
            "=================================================================\n",
            " dense_5 (Dense)             (None, 6272)              809088    \n",
            "                                                                 \n",
            " leaky_re_lu_19 (LeakyReLU)  (None, 6272)              0         \n",
            "                                                                 \n",
            " reshape_5 (Reshape)         (None, 7, 7, 128)         0         \n",
            "                                                                 \n",
            " up_sampling2d_9 (UpSampling  (None, 14, 14, 128)      0         \n",
            " 2D)                                                             \n",
            "                                                                 \n",
            " conv2d_15 (Conv2D)          (None, 14, 14, 128)       409728    \n",
            "                                                                 \n",
            " leaky_re_lu_20 (LeakyReLU)  (None, 14, 14, 128)       0         \n",
            "                                                                 \n",
            " up_sampling2d_10 (UpSamplin  (None, 28, 28, 128)      0         \n",
            " g2D)                                                            \n",
            "                                                                 \n",
            " conv2d_16 (Conv2D)          (None, 28, 28, 128)       409728    \n",
            "                                                                 \n",
            " leaky_re_lu_21 (LeakyReLU)  (None, 28, 28, 128)       0         \n",
            "                                                                 \n",
            " conv2d_17 (Conv2D)          (None, 28, 28, 128)       262272    \n",
            "                                                                 \n",
            " leaky_re_lu_22 (LeakyReLU)  (None, 28, 28, 128)       0         \n",
            "                                                                 \n",
            " conv2d_18 (Conv2D)          (None, 28, 28, 128)       262272    \n",
            "                                                                 \n",
            " leaky_re_lu_23 (LeakyReLU)  (None, 28, 28, 128)       0         \n",
            "                                                                 \n",
            " conv2d_19 (Conv2D)          (None, 28, 28, 1)         2049      \n",
            "                                                                 \n",
            "=================================================================\n",
            "Total params: 2,155,137\n",
            "Trainable params: 2,155,137\n",
            "Non-trainable params: 0\n",
            "_________________________________________________________________\n"
          ]
        }
      ],
      "source": [
        "generator.summary()"
      ]
    },
    {
      "cell_type": "code",
      "execution_count": null,
      "id": "579742d9",
      "metadata": {
        "id": "579742d9"
      },
      "outputs": [],
      "source": [
        "imgs = generator.predict(np.random.randn(4,128,1))"
      ]
    },
    {
      "cell_type": "code",
      "execution_count": null,
      "id": "39ef2b6f",
      "metadata": {
        "id": "39ef2b6f",
        "outputId": "c844eb0d-a10c-4ffb-e99d-cc6e72ecc142"
      },
      "outputs": [
        {
          "data": {
            "text/plain": [
              "(28, 28, 1)"
            ]
          },
          "execution_count": 72,
          "metadata": {},
          "output_type": "execute_result"
        }
      ],
      "source": [
        "img.shape"
      ]
    },
    {
      "cell_type": "code",
      "execution_count": null,
      "id": "55d00df5",
      "metadata": {
        "id": "55d00df5",
        "outputId": "bad405ca-96bf-4ba0-f593-11810afc33fa"
      },
      "outputs": [
        {
          "data": {
            "image/png": "[encoded data removed]",
            "text/plain": [
              "<Figure size 2000x2000 with 4 Axes>"
            ]
          },
          "metadata": {},
          "output_type": "display_data"
        }
      ],
      "source": [
        "fig, ax = plt.subplots(ncols = 4, figsize = (20,20))\n",
        "for idx,img in enumerate(imgs):\n",
        "    #grab an image from the pipeline\n",
        "    ax[idx].imshow(np.squeeze(img))\n",
        "    ax[idx].title.set_text(idx)"
      ]
    },
    {
      "cell_type": "markdown",
      "id": "27f9f9a0",
      "metadata": {
        "id": "27f9f9a0"
      },
      "source": [
        "***Build Discriminator***"
      ]
    },
    {
      "cell_type": "code",
      "execution_count": null,
      "id": "65bfaa6d",
      "metadata": {
        "id": "65bfaa6d"
      },
      "outputs": [],
      "source": [
        "def build_discriminator():\n",
        "    model = Sequential()\n",
        "\n",
        "    #first conv block\n",
        "    model.add(Conv2D(32,5,input_shape = (28,28,1)))\n",
        "    model.add(LeakyReLU(0.2))\n",
        "    model.add(Dropout(0.4))\n",
        "\n",
        "    #second conv block\n",
        "    model.add(Conv2D(64,5))\n",
        "    model.add(LeakyReLU(0.2))\n",
        "    model.add(Dropout(0.4))\n",
        "\n",
        "    #third conv block\n",
        "    model.add(Conv2D(128,5))\n",
        "    model.add(LeakyReLU(0.2))\n",
        "    model.add(Dropout(0.4))\n",
        "\n",
        "    #Fourth conv block\n",
        "    model.add(Conv2D(256,5))\n",
        "    model.add(LeakyReLU(0.2))\n",
        "    model.add(Dropout(0.4))\n",
        "\n",
        "    #Flatten and then pass through Dense layer\n",
        "    model.add(Flatten())\n",
        "    model.add(Dropout(0.4))\n",
        "    model.add(Dense(1,activation = 'sigmoid'))\n",
        "\n",
        "    return model"
      ]
    },
    {
      "cell_type": "code",
      "execution_count": null,
      "id": "cb345bd6",
      "metadata": {
        "id": "cb345bd6"
      },
      "outputs": [],
      "source": [
        "discriminator = build_discriminator()"
      ]
    },
    {
      "cell_type": "code",
      "execution_count": null,
      "id": "412d6535",
      "metadata": {
        "id": "412d6535",
        "outputId": "c7774a04-0153-4018-ffdb-21bc4dbd01fc"
      },
      "outputs": [
        {
          "name": "stdout",
          "output_type": "stream",
          "text": [
            "Model: \"sequential_14\"\n",
            "_________________________________________________________________\n",
            " Layer (type)                Output Shape              Param #   \n",
            "=================================================================\n",
            " conv2d_43 (Conv2D)          (None, 24, 24, 32)        832       \n",
            "                                                                 \n",
            " leaky_re_lu_47 (LeakyReLU)  (None, 24, 24, 32)        0         \n",
            "                                                                 \n",
            " dropout_26 (Dropout)        (None, 24, 24, 32)        0         \n",
            "                                                                 \n",
            " conv2d_44 (Conv2D)          (None, 20, 20, 64)        51264     \n",
            "                                                                 \n",
            " leaky_re_lu_48 (LeakyReLU)  (None, 20, 20, 64)        0         \n",
            "                                                                 \n",
            " dropout_27 (Dropout)        (None, 20, 20, 64)        0         \n",
            "                                                                 \n",
            " conv2d_45 (Conv2D)          (None, 16, 16, 128)       204928    \n",
            "                                                                 \n",
            " leaky_re_lu_49 (LeakyReLU)  (None, 16, 16, 128)       0         \n",
            "                                                                 \n",
            " dropout_28 (Dropout)        (None, 16, 16, 128)       0         \n",
            "                                                                 \n",
            " conv2d_46 (Conv2D)          (None, 12, 12, 256)       819456    \n",
            "                                                                 \n",
            " leaky_re_lu_50 (LeakyReLU)  (None, 12, 12, 256)       0         \n",
            "                                                                 \n",
            " dropout_29 (Dropout)        (None, 12, 12, 256)       0         \n",
            "                                                                 \n",
            " flatten_3 (Flatten)         (None, 36864)             0         \n",
            "                                                                 \n",
            " dropout_30 (Dropout)        (None, 36864)             0         \n",
            "                                                                 \n",
            " dense_8 (Dense)             (None, 1)                 36865     \n",
            "                                                                 \n",
            "=================================================================\n",
            "Total params: 1,113,345\n",
            "Trainable params: 1,113,345\n",
            "Non-trainable params: 0\n",
            "_________________________________________________________________\n"
          ]
        }
      ],
      "source": [
        "discriminator.summary()"
      ]
    },
    {
      "cell_type": "code",
      "execution_count": null,
      "id": "f397b26f",
      "metadata": {
        "id": "f397b26f",
        "outputId": "64140904-e052-4a49-acc5-ad15ff434db8"
      },
      "outputs": [
        {
          "data": {
            "text/plain": [
              "(4, 28, 28, 1)"
            ]
          },
          "execution_count": 77,
          "metadata": {},
          "output_type": "execute_result"
        }
      ],
      "source": [
        "imgs.shape"
      ]
    },
    {
      "cell_type": "code",
      "execution_count": null,
      "id": "ca978c6f",
      "metadata": {
        "id": "ca978c6f",
        "outputId": "46987bb6-a422-4157-cb5d-16d97b841573"
      },
      "outputs": [
        {
          "data": {
            "text/plain": [
              "array([[0.49665552],\n",
              "       [0.4968609 ],\n",
              "       [0.49675632],\n",
              "       [0.49670282]], dtype=float32)"
            ]
          },
          "execution_count": 79,
          "metadata": {},
          "output_type": "execute_result"
        }
      ],
      "source": [
        "discriminator.predict(imgs)"
      ]
    },
    {
      "cell_type": "code",
      "execution_count": null,
      "id": "8eef4558",
      "metadata": {
        "id": "8eef4558"
      },
      "outputs": [],
      "source": []
    },
    {
      "cell_type": "markdown",
      "id": "f6a04c4b",
      "metadata": {
        "id": "f6a04c4b"
      },
      "source": [
        "# Building a custom Training loop"
      ]
    },
    {
      "cell_type": "markdown",
      "id": "64469b79",
      "metadata": {
        "id": "64469b79"
      },
      "source": [
        "***Setup Losses and Optimizers***"
      ]
    },
    {
      "cell_type": "code",
      "execution_count": null,
      "id": "ad8e308c",
      "metadata": {
        "id": "ad8e308c"
      },
      "outputs": [],
      "source": [
        "from tensorflow.keras.optimizers import Adam\n",
        "from tensorflow.keras.losses import BinaryCrossentropy"
      ]
    },
    {
      "cell_type": "code",
      "execution_count": null,
      "id": "64790a1c",
      "metadata": {
        "id": "64790a1c"
      },
      "outputs": [],
      "source": [
        "g_opt = Adam(learning_rate = 0.0001)\n",
        "d_opt = Adam(learning_rate = 0.00001)"
      ]
    },
    {
      "cell_type": "code",
      "execution_count": null,
      "id": "69932a58",
      "metadata": {
        "id": "69932a58"
      },
      "outputs": [],
      "source": [
        "g_loss = BinaryCrossentropy()\n",
        "d_loss = BinaryCrossentropy()"
      ]
    },
    {
      "cell_type": "markdown",
      "id": "5a2b885c",
      "metadata": {
        "id": "5a2b885c"
      },
      "source": [
        "***Build Subclassed Model***"
      ]
    },
    {
      "cell_type": "code",
      "execution_count": null,
      "id": "977436d3",
      "metadata": {
        "id": "977436d3"
      },
      "outputs": [],
      "source": [
        "from tensorflow.keras.models import Model #importing the base model class to subclass of out training step"
      ]
    },
    {
      "cell_type": "code",
      "execution_count": null,
      "id": "dbb81f78",
      "metadata": {
        "id": "dbb81f78"
      },
      "outputs": [],
      "source": [
        "class FashionGAN(Model):\n",
        "    def __init__(self, generator,discriminator, *args, **kwargs):\n",
        "        super().__init__(*args, **kwargs)\n",
        "\n",
        "        #create attributes for gen and disc\n",
        "        self.generator = generator\n",
        "        self.discriminator = discriminator\n",
        "\n",
        "    def compile(self, g_opt, d_opt, g_loss, d_loss, *args, **kwargs):\n",
        "        #compile with the base class\n",
        "        super().compile(*args, **kwargs)\n",
        "\n",
        "        #create attribute for losses and optimizers\n",
        "        self.g_opt = g_opt\n",
        "        self.d_opt = d_opt\n",
        "        self.g_loss = g_loss\n",
        "        self.d_loss = d_loss\n",
        "\n",
        "    def train_step(self,batch):\n",
        "        #get the data\n",
        "        real_images = batch # getting the real data\n",
        "        fake_images = self.generator(tf.random.normal((128,128,1)),training = False)\n",
        "\n",
        "        #train the discriminator\n",
        "        with tf.GradientTape() as d_tape:\n",
        "\n",
        "            #pass the real and fake images to the discriminator model\n",
        "            yhat_real = self.discriminator(real_images , training = True)\n",
        "            yhat_fake = self.discriminator(fake_images, training = True)\n",
        "            yhat_realfake = tf.concat([yhat_real,yhat_fake],axis = 0)\n",
        "\n",
        "            #Create labels for real and fake images\n",
        "            y_realfake = tf.concat([tf.zeros_like(yhat_real),tf.ones_like(yhat_fake)],axis=0)\n",
        "\n",
        "            #add some noise to the TRUE outputs\n",
        "            noise_real = 0.15*tf.random.uniform(tf.shape(yhat_real))\n",
        "            noise_fake = -0.15*tf.random.uniform(tf.shape(yhat_fake))\n",
        "            y_realfake += tf.concat([noise_real,noise_fake],axis=0)\n",
        "\n",
        "            #calculate loss\n",
        "            total_d_loss = self.d_loss(y_realfake,yhat_realfake)\n",
        "\n",
        "        #Apply backpropogation - nn learn\n",
        "        dgrad = d_tape.gradient(total_d_loss,self.discriminator.trainable_variables)\n",
        "        self.d_opt.apply_gradients(zip(dgrad,self.discriminator.trainable_variables))\n",
        "\n",
        "        #train the generator\n",
        "        with tf.GradientTape() as g_tape:\n",
        "            #Generate some new images\n",
        "            gen_images = self.generator(tf.random.normal((128,128,1)), training = True)\n",
        "\n",
        "            #Create the predicted labels\n",
        "            predicted_labels = self.discriminator(gen_images,training = False)\n",
        "\n",
        "            #calculate loss\n",
        "            total_g_loss = self.g_loss(tf.zeros_like(predicted_labels),predicted_labels)\n",
        "\n",
        "        #apply backpropogation\n",
        "        ggrad = g_tape.gradient(total_g_loss,self.generator.trainable_variables)\n",
        "        self.g_opt.apply_gradients(zip(ggrad,self.generator.trainable_variables))\n",
        "\n",
        "        return {\"d_loss\" : total_d_loss, \"g_loss\": total_g_loss}\n",
        "\n",
        "\n",
        "\n"
      ]
    },
    {
      "cell_type": "code",
      "execution_count": null,
      "id": "c5d4e1e0",
      "metadata": {
        "id": "c5d4e1e0"
      },
      "outputs": [],
      "source": [
        "fashgan = FashionGAN(generator,discriminator)"
      ]
    },
    {
      "cell_type": "code",
      "execution_count": null,
      "id": "57bed31b",
      "metadata": {
        "id": "57bed31b"
      },
      "outputs": [],
      "source": [
        "fashgan.compile(g_opt,d_opt,g_loss,d_loss)"
      ]
    },
    {
      "cell_type": "markdown",
      "id": "4bba9150",
      "metadata": {
        "id": "4bba9150"
      },
      "source": [
        "***Build Callback***"
      ]
    },
    {
      "cell_type": "code",
      "execution_count": null,
      "id": "6041ee3d",
      "metadata": {
        "id": "6041ee3d"
      },
      "outputs": [],
      "source": [
        "import os\n",
        "from tensorflow.keras.preprocessing.image import array_to_img\n",
        "from tensorflow.keras.callbacks import Callback"
      ]
    },
    {
      "cell_type": "code",
      "execution_count": null,
      "id": "0ae7ac16",
      "metadata": {
        "id": "0ae7ac16"
      },
      "outputs": [],
      "source": [
        "class ModelMonitor(Callback):\n",
        "    #latent dimension is the dimension that we are giving to the genrator to generate image\n",
        "    def __init__(self, num_img = 3, latent_dim=128):\n",
        "        self.num_img = num_img\n",
        "        self.latent_dim = latent_dim\n",
        "\n",
        "    def on_epoch_end(self, epoch, logs=None):\n",
        "        random_latent_vectors = tf.random.uniform((self.num_img, self.latent_dim,1))\n",
        "        generated_images = self.model.generator(random_latent_vectors)\n",
        "        generated_images *= 255\n",
        "        generated_images.numpy()\n",
        "        for i in range(self.num_img):\n",
        "            img = array_to_img(generated_images[i])\n",
        "            img.save(os.path.join('Images',f'generated_img_{epoch}_{i}.png'))"
      ]
    },
    {
      "cell_type": "markdown",
      "id": "cf81cd28",
      "metadata": {
        "id": "cf81cd28"
      },
      "source": [
        "***Train***"
      ]
    },
    {
      "cell_type": "code",
      "execution_count": null,
      "id": "abb5d8af",
      "metadata": {
        "id": "abb5d8af",
        "outputId": "faea4a36-be4c-459e-8fce-e5b8d2cd5317"
      },
      "outputs": [
        {
          "name": "stdout",
          "output_type": "stream",
          "text": [
            "Epoch 1/20\n",
            " 12/469 [..............................] - ETA: 1:06:51 - d_loss: 0.6930 - g_loss: 0.6873"
          ]
        },
        {
          "ename": "KeyboardInterrupt",
          "evalue": "",
          "output_type": "error",
          "traceback": [
            "\u001b[1;31m---------------------------------------------------------------------------\u001b[0m",
            "\u001b[1;31mKeyboardInterrupt\u001b[0m                         Traceback (most recent call last)",
            "\u001b[1;32m~\\AppData\\Local\\Temp\\ipykernel_8032\\374621273.py\u001b[0m in \u001b[0;36m<module>\u001b[1;34m\u001b[0m\n\u001b[1;32m----> 1\u001b[1;33m \u001b[0mhist\u001b[0m \u001b[1;33m=\u001b[0m \u001b[0mfashgan\u001b[0m\u001b[1;33m.\u001b[0m\u001b[0mfit\u001b[0m\u001b[1;33m(\u001b[0m\u001b[0mds\u001b[0m\u001b[1;33m,\u001b[0m\u001b[0mepochs\u001b[0m\u001b[1;33m=\u001b[0m \u001b[1;36m20\u001b[0m\u001b[1;33m,\u001b[0m \u001b[0mcallbacks\u001b[0m \u001b[1;33m=\u001b[0m \u001b[1;33m[\u001b[0m\u001b[0mModelMonitor\u001b[0m\u001b[1;33m(\u001b[0m\u001b[1;33m)\u001b[0m\u001b[1;33m]\u001b[0m\u001b[1;33m)\u001b[0m\u001b[1;33m\u001b[0m\u001b[1;33m\u001b[0m\u001b[0m\n\u001b[0m",
            "\u001b[1;32m~\\anaconda3\\lib\\site-packages\\keras\\utils\\traceback_utils.py\u001b[0m in \u001b[0;36merror_handler\u001b[1;34m(*args, **kwargs)\u001b[0m\n\u001b[0;32m     62\u001b[0m     \u001b[0mfiltered_tb\u001b[0m \u001b[1;33m=\u001b[0m \u001b[1;32mNone\u001b[0m\u001b[1;33m\u001b[0m\u001b[1;33m\u001b[0m\u001b[0m\n\u001b[0;32m     63\u001b[0m     \u001b[1;32mtry\u001b[0m\u001b[1;33m:\u001b[0m\u001b[1;33m\u001b[0m\u001b[1;33m\u001b[0m\u001b[0m\n\u001b[1;32m---> 64\u001b[1;33m       \u001b[1;32mreturn\u001b[0m \u001b[0mfn\u001b[0m\u001b[1;33m(\u001b[0m\u001b[1;33m*\u001b[0m\u001b[0margs\u001b[0m\u001b[1;33m,\u001b[0m \u001b[1;33m**\u001b[0m\u001b[0mkwargs\u001b[0m\u001b[1;33m)\u001b[0m\u001b[1;33m\u001b[0m\u001b[1;33m\u001b[0m\u001b[0m\n\u001b[0m\u001b[0;32m     65\u001b[0m     \u001b[1;32mexcept\u001b[0m \u001b[0mException\u001b[0m \u001b[1;32mas\u001b[0m \u001b[0me\u001b[0m\u001b[1;33m:\u001b[0m  \u001b[1;31m# pylint: disable=broad-except\u001b[0m\u001b[1;33m\u001b[0m\u001b[1;33m\u001b[0m\u001b[0m\n\u001b[0;32m     66\u001b[0m       \u001b[0mfiltered_tb\u001b[0m \u001b[1;33m=\u001b[0m \u001b[0m_process_traceback_frames\u001b[0m\u001b[1;33m(\u001b[0m\u001b[0me\u001b[0m\u001b[1;33m.\u001b[0m\u001b[0m__traceback__\u001b[0m\u001b[1;33m)\u001b[0m\u001b[1;33m\u001b[0m\u001b[1;33m\u001b[0m\u001b[0m\n",
            "\u001b[1;32m~\\anaconda3\\lib\\site-packages\\keras\\engine\\training.py\u001b[0m in \u001b[0;36mfit\u001b[1;34m(self, x, y, batch_size, epochs, verbose, callbacks, validation_split, validation_data, shuffle, class_weight, sample_weight, initial_epoch, steps_per_epoch, validation_steps, validation_batch_size, validation_freq, max_queue_size, workers, use_multiprocessing)\u001b[0m\n\u001b[0;32m   1382\u001b[0m                 _r=1):\n\u001b[0;32m   1383\u001b[0m               \u001b[0mcallbacks\u001b[0m\u001b[1;33m.\u001b[0m\u001b[0mon_train_batch_begin\u001b[0m\u001b[1;33m(\u001b[0m\u001b[0mstep\u001b[0m\u001b[1;33m)\u001b[0m\u001b[1;33m\u001b[0m\u001b[1;33m\u001b[0m\u001b[0m\n\u001b[1;32m-> 1384\u001b[1;33m               \u001b[0mtmp_logs\u001b[0m \u001b[1;33m=\u001b[0m \u001b[0mself\u001b[0m\u001b[1;33m.\u001b[0m\u001b[0mtrain_function\u001b[0m\u001b[1;33m(\u001b[0m\u001b[0miterator\u001b[0m\u001b[1;33m)\u001b[0m\u001b[1;33m\u001b[0m\u001b[1;33m\u001b[0m\u001b[0m\n\u001b[0m\u001b[0;32m   1385\u001b[0m               \u001b[1;32mif\u001b[0m \u001b[0mdata_handler\u001b[0m\u001b[1;33m.\u001b[0m\u001b[0mshould_sync\u001b[0m\u001b[1;33m:\u001b[0m\u001b[1;33m\u001b[0m\u001b[1;33m\u001b[0m\u001b[0m\n\u001b[0;32m   1386\u001b[0m                 \u001b[0mcontext\u001b[0m\u001b[1;33m.\u001b[0m\u001b[0masync_wait\u001b[0m\u001b[1;33m(\u001b[0m\u001b[1;33m)\u001b[0m\u001b[1;33m\u001b[0m\u001b[1;33m\u001b[0m\u001b[0m\n",
            "\u001b[1;32m~\\anaconda3\\lib\\site-packages\\tensorflow\\python\\util\\traceback_utils.py\u001b[0m in \u001b[0;36merror_handler\u001b[1;34m(*args, **kwargs)\u001b[0m\n\u001b[0;32m    148\u001b[0m     \u001b[0mfiltered_tb\u001b[0m \u001b[1;33m=\u001b[0m \u001b[1;32mNone\u001b[0m\u001b[1;33m\u001b[0m\u001b[1;33m\u001b[0m\u001b[0m\n\u001b[0;32m    149\u001b[0m     \u001b[1;32mtry\u001b[0m\u001b[1;33m:\u001b[0m\u001b[1;33m\u001b[0m\u001b[1;33m\u001b[0m\u001b[0m\n\u001b[1;32m--> 150\u001b[1;33m       \u001b[1;32mreturn\u001b[0m \u001b[0mfn\u001b[0m\u001b[1;33m(\u001b[0m\u001b[1;33m*\u001b[0m\u001b[0margs\u001b[0m\u001b[1;33m,\u001b[0m \u001b[1;33m**\u001b[0m\u001b[0mkwargs\u001b[0m\u001b[1;33m)\u001b[0m\u001b[1;33m\u001b[0m\u001b[1;33m\u001b[0m\u001b[0m\n\u001b[0m\u001b[0;32m    151\u001b[0m     \u001b[1;32mexcept\u001b[0m \u001b[0mException\u001b[0m \u001b[1;32mas\u001b[0m \u001b[0me\u001b[0m\u001b[1;33m:\u001b[0m\u001b[1;33m\u001b[0m\u001b[1;33m\u001b[0m\u001b[0m\n\u001b[0;32m    152\u001b[0m       \u001b[0mfiltered_tb\u001b[0m \u001b[1;33m=\u001b[0m \u001b[0m_process_traceback_frames\u001b[0m\u001b[1;33m(\u001b[0m\u001b[0me\u001b[0m\u001b[1;33m.\u001b[0m\u001b[0m__traceback__\u001b[0m\u001b[1;33m)\u001b[0m\u001b[1;33m\u001b[0m\u001b[1;33m\u001b[0m\u001b[0m\n",
            "\u001b[1;32m~\\anaconda3\\lib\\site-packages\\tensorflow\\python\\eager\\def_function.py\u001b[0m in \u001b[0;36m__call__\u001b[1;34m(self, *args, **kwds)\u001b[0m\n\u001b[0;32m    913\u001b[0m \u001b[1;33m\u001b[0m\u001b[0m\n\u001b[0;32m    914\u001b[0m       \u001b[1;32mwith\u001b[0m \u001b[0mOptionalXlaContext\u001b[0m\u001b[1;33m(\u001b[0m\u001b[0mself\u001b[0m\u001b[1;33m.\u001b[0m\u001b[0m_jit_compile\u001b[0m\u001b[1;33m)\u001b[0m\u001b[1;33m:\u001b[0m\u001b[1;33m\u001b[0m\u001b[1;33m\u001b[0m\u001b[0m\n\u001b[1;32m--> 915\u001b[1;33m         \u001b[0mresult\u001b[0m \u001b[1;33m=\u001b[0m \u001b[0mself\u001b[0m\u001b[1;33m.\u001b[0m\u001b[0m_call\u001b[0m\u001b[1;33m(\u001b[0m\u001b[1;33m*\u001b[0m\u001b[0margs\u001b[0m\u001b[1;33m,\u001b[0m \u001b[1;33m**\u001b[0m\u001b[0mkwds\u001b[0m\u001b[1;33m)\u001b[0m\u001b[1;33m\u001b[0m\u001b[1;33m\u001b[0m\u001b[0m\n\u001b[0m\u001b[0;32m    916\u001b[0m \u001b[1;33m\u001b[0m\u001b[0m\n\u001b[0;32m    917\u001b[0m       \u001b[0mnew_tracing_count\u001b[0m \u001b[1;33m=\u001b[0m \u001b[0mself\u001b[0m\u001b[1;33m.\u001b[0m\u001b[0mexperimental_get_tracing_count\u001b[0m\u001b[1;33m(\u001b[0m\u001b[1;33m)\u001b[0m\u001b[1;33m\u001b[0m\u001b[1;33m\u001b[0m\u001b[0m\n",
            "\u001b[1;32m~\\anaconda3\\lib\\site-packages\\tensorflow\\python\\eager\\def_function.py\u001b[0m in \u001b[0;36m_call\u001b[1;34m(self, *args, **kwds)\u001b[0m\n\u001b[0;32m    945\u001b[0m       \u001b[1;31m# In this case we have created variables on the first call, so we run the\u001b[0m\u001b[1;33m\u001b[0m\u001b[1;33m\u001b[0m\u001b[0m\n\u001b[0;32m    946\u001b[0m       \u001b[1;31m# defunned version which is guaranteed to never create variables.\u001b[0m\u001b[1;33m\u001b[0m\u001b[1;33m\u001b[0m\u001b[0m\n\u001b[1;32m--> 947\u001b[1;33m       \u001b[1;32mreturn\u001b[0m \u001b[0mself\u001b[0m\u001b[1;33m.\u001b[0m\u001b[0m_stateless_fn\u001b[0m\u001b[1;33m(\u001b[0m\u001b[1;33m*\u001b[0m\u001b[0margs\u001b[0m\u001b[1;33m,\u001b[0m \u001b[1;33m**\u001b[0m\u001b[0mkwds\u001b[0m\u001b[1;33m)\u001b[0m  \u001b[1;31m# pylint: disable=not-callable\u001b[0m\u001b[1;33m\u001b[0m\u001b[1;33m\u001b[0m\u001b[0m\n\u001b[0m\u001b[0;32m    948\u001b[0m     \u001b[1;32melif\u001b[0m \u001b[0mself\u001b[0m\u001b[1;33m.\u001b[0m\u001b[0m_stateful_fn\u001b[0m \u001b[1;32mis\u001b[0m \u001b[1;32mnot\u001b[0m \u001b[1;32mNone\u001b[0m\u001b[1;33m:\u001b[0m\u001b[1;33m\u001b[0m\u001b[1;33m\u001b[0m\u001b[0m\n\u001b[0;32m    949\u001b[0m       \u001b[1;31m# Release the lock early so that multiple threads can perform the call\u001b[0m\u001b[1;33m\u001b[0m\u001b[1;33m\u001b[0m\u001b[0m\n",
            "\u001b[1;32m~\\anaconda3\\lib\\site-packages\\tensorflow\\python\\eager\\function.py\u001b[0m in \u001b[0;36m__call__\u001b[1;34m(self, *args, **kwargs)\u001b[0m\n\u001b[0;32m   2954\u001b[0m       (graph_function,\n\u001b[0;32m   2955\u001b[0m        filtered_flat_args) = self._maybe_define_function(args, kwargs)\n\u001b[1;32m-> 2956\u001b[1;33m     return graph_function._call_flat(\n\u001b[0m\u001b[0;32m   2957\u001b[0m         filtered_flat_args, captured_inputs=graph_function.captured_inputs)  # pylint: disable=protected-access\n\u001b[0;32m   2958\u001b[0m \u001b[1;33m\u001b[0m\u001b[0m\n",
            "\u001b[1;32m~\\anaconda3\\lib\\site-packages\\tensorflow\\python\\eager\\function.py\u001b[0m in \u001b[0;36m_call_flat\u001b[1;34m(self, args, captured_inputs, cancellation_manager)\u001b[0m\n\u001b[0;32m   1851\u001b[0m         and executing_eagerly):\n\u001b[0;32m   1852\u001b[0m       \u001b[1;31m# No tape is watching; skip to running the function.\u001b[0m\u001b[1;33m\u001b[0m\u001b[1;33m\u001b[0m\u001b[0m\n\u001b[1;32m-> 1853\u001b[1;33m       return self._build_call_outputs(self._inference_function.call(\n\u001b[0m\u001b[0;32m   1854\u001b[0m           ctx, args, cancellation_manager=cancellation_manager))\n\u001b[0;32m   1855\u001b[0m     forward_backward = self._select_forward_and_backward_functions(\n",
            "\u001b[1;32m~\\anaconda3\\lib\\site-packages\\tensorflow\\python\\eager\\function.py\u001b[0m in \u001b[0;36mcall\u001b[1;34m(self, ctx, args, cancellation_manager)\u001b[0m\n\u001b[0;32m    497\u001b[0m       \u001b[1;32mwith\u001b[0m \u001b[0m_InterpolateFunctionError\u001b[0m\u001b[1;33m(\u001b[0m\u001b[0mself\u001b[0m\u001b[1;33m)\u001b[0m\u001b[1;33m:\u001b[0m\u001b[1;33m\u001b[0m\u001b[1;33m\u001b[0m\u001b[0m\n\u001b[0;32m    498\u001b[0m         \u001b[1;32mif\u001b[0m \u001b[0mcancellation_manager\u001b[0m \u001b[1;32mis\u001b[0m \u001b[1;32mNone\u001b[0m\u001b[1;33m:\u001b[0m\u001b[1;33m\u001b[0m\u001b[1;33m\u001b[0m\u001b[0m\n\u001b[1;32m--> 499\u001b[1;33m           outputs = execute.execute(\n\u001b[0m\u001b[0;32m    500\u001b[0m               \u001b[0mstr\u001b[0m\u001b[1;33m(\u001b[0m\u001b[0mself\u001b[0m\u001b[1;33m.\u001b[0m\u001b[0msignature\u001b[0m\u001b[1;33m.\u001b[0m\u001b[0mname\u001b[0m\u001b[1;33m)\u001b[0m\u001b[1;33m,\u001b[0m\u001b[1;33m\u001b[0m\u001b[1;33m\u001b[0m\u001b[0m\n\u001b[0;32m    501\u001b[0m               \u001b[0mnum_outputs\u001b[0m\u001b[1;33m=\u001b[0m\u001b[0mself\u001b[0m\u001b[1;33m.\u001b[0m\u001b[0m_num_outputs\u001b[0m\u001b[1;33m,\u001b[0m\u001b[1;33m\u001b[0m\u001b[1;33m\u001b[0m\u001b[0m\n",
            "\u001b[1;32m~\\anaconda3\\lib\\site-packages\\tensorflow\\python\\eager\\execute.py\u001b[0m in \u001b[0;36mquick_execute\u001b[1;34m(op_name, num_outputs, inputs, attrs, ctx, name)\u001b[0m\n\u001b[0;32m     52\u001b[0m   \u001b[1;32mtry\u001b[0m\u001b[1;33m:\u001b[0m\u001b[1;33m\u001b[0m\u001b[1;33m\u001b[0m\u001b[0m\n\u001b[0;32m     53\u001b[0m     \u001b[0mctx\u001b[0m\u001b[1;33m.\u001b[0m\u001b[0mensure_initialized\u001b[0m\u001b[1;33m(\u001b[0m\u001b[1;33m)\u001b[0m\u001b[1;33m\u001b[0m\u001b[1;33m\u001b[0m\u001b[0m\n\u001b[1;32m---> 54\u001b[1;33m     tensors = pywrap_tfe.TFE_Py_Execute(ctx._handle, device_name, op_name,\n\u001b[0m\u001b[0;32m     55\u001b[0m                                         inputs, attrs, num_outputs)\n\u001b[0;32m     56\u001b[0m   \u001b[1;32mexcept\u001b[0m \u001b[0mcore\u001b[0m\u001b[1;33m.\u001b[0m\u001b[0m_NotOkStatusException\u001b[0m \u001b[1;32mas\u001b[0m \u001b[0me\u001b[0m\u001b[1;33m:\u001b[0m\u001b[1;33m\u001b[0m\u001b[1;33m\u001b[0m\u001b[0m\n",
            "\u001b[1;31mKeyboardInterrupt\u001b[0m: "
          ]
        }
      ],
      "source": [
        "hist = fashgan.fit(ds,epochs= 20, callbacks = [ModelMonitor()])"
      ]
    },
    {
      "cell_type": "code",
      "execution_count": null,
      "id": "8a5e20e1",
      "metadata": {
        "id": "8a5e20e1"
      },
      "outputs": [],
      "source": [
        "cpus = tf.config.experimental.list_physical_devices('CPU')"
      ]
    },
    {
      "cell_type": "code",
      "execution_count": null,
      "id": "f76244d3",
      "metadata": {
        "id": "f76244d3",
        "outputId": "48941984-2256-4830-8295-078ae1bca74b"
      },
      "outputs": [
        {
          "data": {
            "text/plain": [
              "[PhysicalDevice(name='/physical_device:CPU:0', device_type='CPU')]"
            ]
          },
          "execution_count": 117,
          "metadata": {},
          "output_type": "execute_result"
        }
      ],
      "source": [
        "cpus"
      ]
    },
    {
      "cell_type": "markdown",
      "id": "1d991940",
      "metadata": {
        "id": "1d991940"
      },
      "source": [
        "***Review Performance***"
      ]
    },
    {
      "cell_type": "code",
      "execution_count": null,
      "id": "ab8bf79a",
      "metadata": {
        "id": "ab8bf79a",
        "outputId": "0ea48552-b88d-4830-b4c3-7cb3d7c2f4e1"
      },
      "outputs": [
        {
          "ename": "NameError",
          "evalue": "name 'hist' is not defined",
          "output_type": "error",
          "traceback": [
            "\u001b[1;31m---------------------------------------------------------------------------\u001b[0m",
            "\u001b[1;31mNameError\u001b[0m                                 Traceback (most recent call last)",
            "\u001b[1;32m~\\AppData\\Local\\Temp\\ipykernel_8032\\438535537.py\u001b[0m in \u001b[0;36m<module>\u001b[1;34m\u001b[0m\n\u001b[1;32m----> 1\u001b[1;33m \u001b[0mhist\u001b[0m\u001b[1;33m.\u001b[0m\u001b[0mhistory\u001b[0m\u001b[1;33m\u001b[0m\u001b[1;33m\u001b[0m\u001b[0m\n\u001b[0m",
            "\u001b[1;31mNameError\u001b[0m: name 'hist' is not defined"
          ]
        }
      ],
      "source": [
        "hist.history"
      ]
    },
    {
      "cell_type": "code",
      "execution_count": null,
      "id": "64d73394",
      "metadata": {
        "id": "64d73394"
      },
      "outputs": [],
      "source": []
    }
  ],
  "metadata": {
    "kernelspec": {
      "display_name": "Python 3 (ipykernel)",
      "language": "python",
      "name": "python3"
    },
    "language_info": {
      "codemirror_mode": {
        "name": "ipython",
        "version": 3
      },
      "file_extension": ".py",
      "mimetype": "text/x-python",
      "name": "python",
      "nbconvert_exporter": "python",
      "pygments_lexer": "ipython3",
      "version": "3.9.13"
    },
    "colab": {
      "provenance": [],
      "include_colab_link": true
    }
  },
  "nbformat": 4,
  "nbformat_minor": 5
}